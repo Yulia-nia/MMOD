{
 "cells": [
  {
   "cell_type": "code",
   "execution_count": 1,
   "metadata": {},
   "outputs": [],
   "source": [
    "import math\n",
    "from random import random"
   ]
  },
  {
   "cell_type": "markdown",
   "metadata": {},
   "source": [
    "## 1.Имитация простого случайного события\n",
    "### На вход генератора подается вероятность простого случайного события. В результате работы генератор должен вернуть с заданной вероятностью True, если событие произошло, и False, если событие не произошло"
   ]
  },
  {
   "cell_type": "code",
   "execution_count": 2,
   "metadata": {},
   "outputs": [],
   "source": [
    "def s_imitation(p):\n",
    "    x = random()\n",
    "    return x <= p\n",
    "\n",
    "\n",
    "def simple_random_event(n, p):\n",
    "    event = [s_imitation(p) for _ in range(n)]\n",
    "    return event.count(True), event.count(False)"
   ]
  },
  {
   "cell_type": "code",
   "execution_count": 3,
   "metadata": {},
   "outputs": [
    {
     "name": "stdout",
     "output_type": "stream",
     "text": [
      "С вероятностью 0.3 событие произошло 300302 раз\n",
      "С вероятностью 0.3 событие не произошло 699698 раз\n"
     ]
    }
   ],
   "source": [
    "n = 10 ** 6\n",
    "p = 0.3\n",
    "t, f = simple_random_event(n, p)\n",
    "print('С вероятностью ' +str(p) + ' событие произошло ' + str(t) + ' раз')\n",
    "print('С вероятностью ' +str(p) + ' событие не произошло ' + str(f) + ' раз')"
   ]
  },
  {
   "cell_type": "markdown",
   "metadata": {},
   "source": [
    "## 2. Имитация сложного события\n",
    "### На вход генератора подается список, содержащий вероятности 𝑘 случайных независимых событий. В результате работы генератор должен вернуть список значений True/False, 𝑖-ый элемент которого соответствует выпадению/невыпадению 𝑖-го случайного события с заданной вероятностью."
   ]
  },
  {
   "cell_type": "code",
   "execution_count": 4,
   "metadata": {},
   "outputs": [],
   "source": [
    "def check_result_ce(check):\n",
    "    if check == (True, True):\n",
    "        return 0\n",
    "    if check == (True, False):\n",
    "        return 1\n",
    "    if check == (False, True):\n",
    "        return 2\n",
    "    return 3\n",
    "\n",
    "\n",
    "def c_imitation(p_a, p_b):\n",
    "    x1 = random()\n",
    "    x2 = random()\n",
    "    return x1 <= p_a, x2 <= p_b\n",
    "\n",
    "\n",
    "def complex_event(n, p_a, p_b):\n",
    "    res = [0] * 4  \n",
    "    for _ in range(n):\n",
    "        index = check_result_ce(c_imitation(p_a, p_b))\n",
    "        res[index] += 1 \n",
    "    return res"
   ]
  },
  {
   "cell_type": "code",
   "execution_count": 5,
   "metadata": {},
   "outputs": [
    {
     "name": "stdout",
     "output_type": "stream",
     "text": [
      "AB, AB^, A^B, A^B^\n",
      "[100408, 99917, 399711, 399964]\n"
     ]
    }
   ],
   "source": [
    "n = 10 ** 6\n",
    "p_a = 0.2\n",
    "p_b = 0.5\n",
    "arr_res = complex_event(n, p_a, p_b)\n",
    "print('AB, AB^, A^B, A^B^')\n",
    "print(arr_res)"
   ]
  },
  {
   "cell_type": "markdown",
   "metadata": {},
   "source": [
    "## 3. Имитация сложного события, состоящего из зависимых событий.\n",
    "### На вход генератора подается вероятность 𝑃(𝐴) и условная вероятность 𝑃(𝐵|𝐴). В результате работы генератор должен вернуть индикатор (число 0, 1, 2 или 3) одного из четырех событий 𝐴𝐵, 𝐴𝐵 ̅, 𝐴̅𝐵, 𝐴̅𝐵 ̅ с соответствующими вероятностями 𝑃(𝐴𝐵), 𝑃(𝐴𝐵 ̅ ), 𝑃(𝐴̅𝐵), 𝑃(𝐴̅𝐵 ̅ ). Для теоретических расчетов указанных вероятностей воспользуйтесь формулой полной вероятности и теоремой Байеса. При выполнении используйте 𝑃(𝐴̅) = 1 − 𝑃(𝐴) и 𝑃(𝐵|𝐴̅) = 1 − 𝑃(𝐵|𝐴)."
   ]
  },
  {
   "cell_type": "code",
   "execution_count": 6,
   "metadata": {},
   "outputs": [],
   "source": [
    "def check_result_de(x1, x2, p_a, p_b_a, p_b_not_a):\n",
    "    if x1 <= p_a and x2 <= p_b_a:\n",
    "        return 0\n",
    "    if x1 > p_a and x2 <= p_b_not_a:\n",
    "        return 1\n",
    "    if x1 <= p_a and x2 > p_b_a:\n",
    "        return 2\n",
    "    if x1 > p_a and x2 > p_b_not_a:\n",
    "        return 3\n",
    "\n",
    "    \n",
    "def d_imitation(p_a, p_b_a):\n",
    "    p_b_not_a = 1 - p_b_a\n",
    "    x1 = random()\n",
    "    x2 = random()\n",
    "    return check_result_de(x1, x2, p_a, p_b_a, p_b_not_a)\n",
    "\n",
    "\n",
    "def dependent_event(n, p_a, p_b_a):\n",
    "    res = [0] * 4           # AB, AB^, A^B, A^B^\n",
    "    for _ in range(n):\n",
    "        index = d_imitation(p_a, p_b)\n",
    "        res[index] += 1 \n",
    "    return res"
   ]
  },
  {
   "cell_type": "code",
   "execution_count": 7,
   "metadata": {},
   "outputs": [
    {
     "name": "stdout",
     "output_type": "stream",
     "text": [
      "AB, AB^, A^B, A^B^\n",
      "[350306, 349425, 150426, 149843]\n"
     ]
    }
   ],
   "source": [
    "n = 10 ** 6\n",
    "p_a = 0.7\n",
    "p_b_a = 0.6\n",
    "\n",
    "arr_res = complex_event(n, p_a, p_b)\n",
    "print('AB, AB^, A^B, A^B^')\n",
    "print(arr_res)"
   ]
  },
  {
   "cell_type": "markdown",
   "metadata": {},
   "source": [
    "## 4. Имитация событий, образующих полную группу\n",
    "### На вход генератора подается список, содержащий вероятности 𝑘 случайных независимых событий, образующих полную группу. В результате своей работы генератор должен с заданными вероятностями вернуть индикатор (0, 1, . . . , 𝑘 − 1) произошедшего на данном испытании события."
   ]
  },
  {
   "cell_type": "code",
   "execution_count": 8,
   "metadata": {},
   "outputs": [],
   "source": [
    "def full_group_event(p, n):\n",
    "    x_n = [random() for _ in range(n)]\n",
    "    arr = [0 for _ in range(len(p))]    \n",
    "    p_1 = [0]\n",
    "    for i in range(len(p)):\n",
    "        p_1.append(p_1[i] + p[i])\n",
    "    x_n = [random() for _ in range(n)]\n",
    "    for x in x_n:\n",
    "        for index, (i, j) in enumerate(zip(p_1, p_1[1:])):\n",
    "            if i <= x and j > x:\n",
    "                arr[index] += 1\n",
    "    return arr"
   ]
  },
  {
   "cell_type": "code",
   "execution_count": 9,
   "metadata": {},
   "outputs": [
    {
     "name": "stdout",
     "output_type": "stream",
     "text": [
      "[200035, 399294, 150472, 250199]\n"
     ]
    }
   ],
   "source": [
    "p = [0.2, 0.4, 0.15, 0.25]\n",
    "n = 10 ** 6\n",
    "x_n = [random() for _ in range(n)]\n",
    "arr = [0 for _ in range(len(p))]    \n",
    "p_1 = [0]\n",
    "for i in range(len(p)):\n",
    "    p_1.append(p_1[i] + p[i])\n",
    "x_n = [random() for _ in range(n)]\n",
    "for x in x_n:\n",
    "    for index, (i, j) in enumerate(zip(p_1, p_1[1:])):\n",
    "        if i <= x and j > x:\n",
    "            arr[index] += 1\n",
    "print(arr)"
   ]
  },
  {
   "cell_type": "code",
   "execution_count": null,
   "metadata": {},
   "outputs": [],
   "source": []
  },
  {
   "cell_type": "code",
   "execution_count": null,
   "metadata": {},
   "outputs": [],
   "source": []
  }
 ],
 "metadata": {
  "kernelspec": {
   "display_name": "Python 3",
   "language": "python",
   "name": "python3"
  },
  "language_info": {
   "codemirror_mode": {
    "name": "ipython",
    "version": 3
   },
   "file_extension": ".py",
   "mimetype": "text/x-python",
   "name": "python",
   "nbconvert_exporter": "python",
   "pygments_lexer": "ipython3",
   "version": "3.8.3"
  }
 },
 "nbformat": 4,
 "nbformat_minor": 4
}
