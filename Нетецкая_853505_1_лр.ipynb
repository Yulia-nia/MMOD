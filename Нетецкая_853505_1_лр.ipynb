{
 "cells": [
  {
   "cell_type": "code",
   "execution_count": 1,
   "metadata": {},
   "outputs": [],
   "source": [
    "import math\n",
    "import numpy as np\n",
    "import matplotlib.pyplot as plt"
   ]
  },
  {
   "cell_type": "markdown",
   "metadata": {},
   "source": [
    "# 1.1 метод середины квадрата "
   ]
  },
  {
   "cell_type": "code",
   "execution_count": 2,
   "metadata": {},
   "outputs": [],
   "source": [
    "def mid_square_method(number, len_r): \n",
    "    number_str = str(number ** 2) \n",
    "    number_r = number_str.rjust(len_r * 2, '0')\n",
    "    return number_r[len(number_r) // 4: len(number_r) - len(number_r) // 4]"
   ]
  },
  {
   "cell_type": "code",
   "execution_count": 3,
   "metadata": {},
   "outputs": [],
   "source": [
    "def get_divisional_num(str_num):\n",
    "    return int(str_num) / (10 ** len(str_num))"
   ]
  },
  {
   "cell_type": "code",
   "execution_count": 4,
   "metadata": {},
   "outputs": [],
   "source": [
    "def rec_midsquare(number, counter=10):\n",
    "    list_num = []\n",
    "    len_r = len(str(number))\n",
    "    for i in range(counter):\n",
    "        result_num = mid_square_method(number, len_r)\n",
    "        len_r = len(result_num)\n",
    "        list_num.append(get_divisional_num(result_num))\n",
    "        number = int(result_num)\n",
    "    return list_num"
   ]
  },
  {
   "cell_type": "code",
   "execution_count": 5,
   "metadata": {},
   "outputs": [
    {
     "name": "stdout",
     "output_type": "stream",
     "text": [
      "Произвольное число: 1994\n",
      "Количество чисел: 100\n",
      "Последовательность псевдослучайных чисел z: [0.976, 0.2576, 0.6357, 0.4114, 0.9249, 0.544, 0.5936, 0.236, 0.5696, 0.4444, 0.7491, 0.115, 0.3225, 0.4006, 0.048, 0.2304, 0.3084, 0.511, 0.1121, 0.2566, 0.5843, 0.1406, 0.9768, 0.4138, 0.123, 0.5129, 0.3066, 0.4003, 0.024, 0.0576, 0.3317, 0.0024, 0.0005, 0.0, 0.0, 0.0, 0.0, 0.0, 0.0, 0.0, 0.0, 0.0, 0.0, 0.0, 0.0, 0.0, 0.0, 0.0, 0.0, 0.0, 0.0, 0.0, 0.0, 0.0, 0.0, 0.0, 0.0, 0.0, 0.0, 0.0, 0.0, 0.0, 0.0, 0.0, 0.0, 0.0, 0.0, 0.0, 0.0, 0.0, 0.0, 0.0, 0.0, 0.0, 0.0, 0.0, 0.0, 0.0, 0.0, 0.0, 0.0, 0.0, 0.0, 0.0, 0.0, 0.0, 0.0, 0.0, 0.0, 0.0, 0.0, 0.0, 0.0, 0.0, 0.0, 0.0, 0.0, 0.0, 0.0, 0.0]\n"
     ]
    }
   ],
   "source": [
    "num = 1994 \n",
    "n = 100\n",
    "list_res = rec_midsquare(num, n)\n",
    "print('Произвольное число: ' + str(num))\n",
    "print('Количество чисел: ' + str(n))\n",
    "print('Последовательность псевдослучайных чисел z: ' + str(list_res))"
   ]
  },
  {
   "cell_type": "markdown",
   "metadata": {},
   "source": [
    "# 1.2 мультипликативный конгруэнтный метод"
   ]
  },
  {
   "cell_type": "code",
   "execution_count": 6,
   "metadata": {},
   "outputs": [],
   "source": [
    "def multiplicative_congruent_method_for_test(counter, m=13, k=7, a0=1):\n",
    "    A = [a0]\n",
    "    z = []   \n",
    "    for i in range(1, counter):\n",
    "        A.append((k * A[i - 1]) % m)\n",
    "        z.append(A[i]/m)\n",
    "    return A, z"
   ]
  },
  {
   "cell_type": "code",
   "execution_count": 7,
   "metadata": {},
   "outputs": [
    {
     "name": "stdout",
     "output_type": "stream",
     "text": [
      "Ряд A[i]: [1, 7, 10, 5, 9, 11, 12, 6, 3, 8, 4, 2]\n",
      "Последовательность псевдослучайных чисел z: [0.5384615384615384, 0.7692307692307693, 0.38461538461538464, 0.6923076923076923, 0.8461538461538461, 0.9230769230769231, 0.46153846153846156, 0.23076923076923078, 0.6153846153846154, 0.3076923076923077, 0.15384615384615385]\n"
     ]
    }
   ],
   "source": [
    "m = 13 \n",
    "k = 7\n",
    "n = m - 1\n",
    "A, z = multiplicative_congruent_method_for_test(n, m, k)\n",
    "print('Ряд A[i]: ' + str(A))\n",
    "print('Последовательность псевдослучайных чисел z: ' + str(z))"
   ]
  },
  {
   "cell_type": "code",
   "execution_count": 8,
   "metadata": {},
   "outputs": [
    {
     "name": "stdout",
     "output_type": "stream",
     "text": [
      "Ряд A[i]: [19941, 2108916, 2484528, 1094004, 1980084, 1811808, 192744, 1381500, 455880, 2944428, 2399472, 2161188, 2207400, 283128, 1703436, 3309312, 2544816, 219756, 329328, 1119564, 2799756, 116052, 262884, 3613284, 2427660, 240036, 1854864, 334224, 2295288, 3514656, 2072400, 2570280, 577752, 1836120, 2467212, 307656, 2220456, 3418392, 2367072, 1069656, 3726816, 824352, 1237416, 3330408, 2402160, 174948, 2015064, 1795824, 3481968, 3324132, 2512464, 1223208, 2111616, 2886180, 2831532, 70836, 2782716, 2055132, 150624, 1080996, 939804, 1411044, 3657792, 697296, 3513264, 970536, 2403576, 2324304, 2313204, 661968, 1389636, 1367928, 2761728, 1319064, 2651040, 2152392, 451512, 2443776, 847872, 2499276, 1647468, 2589228, 1756008, 3076812, 1512744, 145224, 277692, 1193040, 1501248, 1715976, 700812, 2246724, 3448596, 2684532, 572868, 3048288, 3682176, 2385948, 2833728, 844908]\n",
      "Последовательность псевдослучайных чисел z: [0.565652046567168, 0.666398447331915, 0.2934330250956738, 0.53109681323244, 0.4859619364577667, 0.051697667457377264, 0.37054501095944203, 0.12227583032659459, 0.7897525193842113, 0.6435847835952764, 0.5796724076333077, 0.5920673595308522, 0.07594040380957286, 0.45689447071205797, 0.8876214631257423, 0.6825688545854242, 0.05894280812768957, 0.08833213707510035, 0.3002887112919267, 0.7509486917870167, 0.03112739023660164, 0.0705105715968599, 0.9691526307488791, 0.6511453502032566, 0.06438229623645358, 0.49751038813483495, 0.08964533893804455, 0.6156406204235076, 0.9426986942009907, 0.5558577493393758, 0.6893987917255409, 0.15496425709145098, 0.4924828849242495, 0.661753961331355, 0.082519287652362, 0.5955692311653701, 0.9168788281604553, 0.634894477149322, 0.28690242073314, 0.9996041082619065, 0.2211071450412146, 0.3318988963310814, 0.8932798182116637, 0.6443057571670888, 0.04692443617613642, 0.5404791255620536, 0.4816747186110959, 0.9339311405866279, 0.8915964736667622, 0.6738914226675379, 0.3280880360229295, 0.5663762387709975, 0.7741292795735957, 0.759471629368086, 0.018999584796469803, 0.7463782343228481, 0.5512261378668838, 0.04040026907763662, 0.28994402798922403, 0.25207360367696524, 0.37846928298534555, 0.9810905369000068, 0.18702826924500549, 0.9423253328870164, 0.26031652027255375, 0.6446855557450972, 0.6234232726406622, 0.6204460380249186, 0.17755261658689825, 0.37272724346698166, 0.36690473814819224, 0.7407488469250799, 0.3537984685748863, 0.7110601852000863, 0.5773131503648319, 0.12110424827239927, 0.6554679730021147, 0.22741566379457404, 0.6703541460808328, 0.4418827709846761, 0.6944810116804155, 0.47099529757862313, 0.8252604677959774, 0.40574718932959114, 0.038951884669977566, 0.07448236350586274, 0.31999639513214095, 0.4026637398572859, 0.460257941169844, 0.18797132842599237, 0.6026148166506271, 0.9249801249472949, 0.7200433871595894, 0.1536542738605238, 0.8176097794915205, 0.9876307971585917, 0.6399573853120947, 0.7600606390272007, 0.22662066168637005]\n"
     ]
    }
   ],
   "source": [
    "n = 100\n",
    "k = 2373828\n",
    "m = 3728292\n",
    "a0 = 19941\n",
    "A, z = multiplicative_congruent_method_for_test(n, m, k, a0)\n",
    "print('Ряд A[i]: ' + str(A))\n",
    "print('Последовательность псевдослучайных чисел z: ' + str(z))"
   ]
  },
  {
   "cell_type": "markdown",
   "metadata": {},
   "source": [
    "## 2.1 Тестирование равномерности"
   ]
  },
  {
   "cell_type": "code",
   "execution_count": 9,
   "metadata": {},
   "outputs": [],
   "source": [
    "def test_1(z, k, n):\n",
    "    step = 1 / k\n",
    "    x_n = np.arange(0, 1 + step, step) # x   \n",
    "    z_n = [0 for _ in range(k)]    \n",
    "    for index, (i, j) in enumerate(zip(x_n, x_n[1:])):\n",
    "        for el in z:\n",
    "            if i <= el <= j:\n",
    "                z_n[index] += 1       \n",
    "    \n",
    "    p = [0]\n",
    "    for i in z_n:\n",
    "        p.append(i / n)\n",
    "    \n",
    "    plt.step(x_n, p, c='black')\n",
    "    plt.vlines(x_n, min(p), p)\n",
    "    plt.grid(True)\n",
    "    plt.show()"
   ]
  },
  {
   "cell_type": "code",
   "execution_count": 10,
   "metadata": {},
   "outputs": [
    {
     "name": "stdout",
     "output_type": "stream",
     "text": [
      "Метод середины квадрата\n"
     ]
    },
    {
     "data": {
      "image/png": "[encoded data removed]",
      "text/plain": [
       "<Figure size 432x288 with 1 Axes>"
      ]
     },
     "metadata": {
      "needs_background": "light"
     },
     "output_type": "display_data"
    },
    {
     "name": "stdout",
     "output_type": "stream",
     "text": [
      "Мультипликативный конгруэнтный метод\n"
     ]
    },
    {
     "data": {
      "image/png": "[encoded data removed]",
      "text/plain": [
       "<Figure size 432x288 with 1 Axes>"
      ]
     },
     "metadata": {
      "needs_background": "light"
     },
     "output_type": "display_data"
    }
   ],
   "source": [
    "k_interval = 35\n",
    "n = 100 \n",
    "\n",
    "z0 = rec_midsquare(90909090, n)\n",
    "k = 2373828\n",
    "m = 3728292\n",
    "a0 = 19941\n",
    "A, z1 = multiplicative_congruent_method_for_test(n, m, k, a0)\n",
    "\n",
    "print('Метод середины квадрата')\n",
    "plt.plot([0, 1], [1/k_interval, 1/k_interval], c='red')\n",
    "test_1(z0, k_interval, n)\n",
    "\n",
    "print('Мультипликативный конгруэнтный метод')\n",
    "plt.plot([0, 1], [1/k_interval, 1/k_interval], c='red')\n",
    "test_1(z1, k_interval, n)"
   ]
  },
  {
   "cell_type": "code",
   "execution_count": 11,
   "metadata": {},
   "outputs": [
    {
     "name": "stdout",
     "output_type": "stream",
     "text": [
      "Метод середины квадрата\n"
     ]
    },
    {
     "data": {
      "image/png": "[encoded data removed]",
      "text/plain": [
       "<Figure size 432x288 with 1 Axes>"
      ]
     },
     "metadata": {
      "needs_background": "light"
     },
     "output_type": "display_data"
    },
    {
     "name": "stdout",
     "output_type": "stream",
     "text": [
      "Мультипликативный конгруэнтный метод\n"
     ]
    },
    {
     "data": {
      "image/png": "[encoded data removed]",
      "text/plain": [
       "<Figure size 432x288 with 1 Axes>"
      ]
     },
     "metadata": {
      "needs_background": "light"
     },
     "output_type": "display_data"
    }
   ],
   "source": [
    "k_interval = 40  \n",
    "n = 10000 \n",
    "\n",
    "z0 = rec_midsquare(90909090, n)\n",
    "k = 2373828\n",
    "m = 3728292\n",
    "a0 = 19941\n",
    "A, z1 = multiplicative_congruent_method_for_test(n, m, k, a0)\n",
    "\n",
    "print('Метод середины квадрата')\n",
    "plt.plot([0, 1], [1/k_interval, 1/k_interval], c='red')\n",
    "test_1(z0, k_interval, n)\n",
    "\n",
    "print('Мультипликативный конгруэнтный метод')\n",
    "plt.plot([0, 1], [1/k_interval, 1/k_interval], c='red')\n",
    "test_1(z1, k_interval, n)"
   ]
  },
  {
   "cell_type": "code",
   "execution_count": 12,
   "metadata": {},
   "outputs": [
    {
     "name": "stdout",
     "output_type": "stream",
     "text": [
      "Метод середины квадрата\n"
     ]
    },
    {
     "data": {
      "image/png": "[encoded data removed]",
      "text/plain": [
       "<Figure size 432x288 with 1 Axes>"
      ]
     },
     "metadata": {
      "needs_background": "light"
     },
     "output_type": "display_data"
    },
    {
     "name": "stdout",
     "output_type": "stream",
     "text": [
      "Мультипликативный конгруэнтный метод\n"
     ]
    },
    {
     "data": {
      "image/png": "[encoded data removed]",
      "text/plain": [
       "<Figure size 432x288 with 1 Axes>"
      ]
     },
     "metadata": {
      "needs_background": "light"
     },
     "output_type": "display_data"
    }
   ],
   "source": [
    "k = 10  \n",
    "n = 1000 \n",
    "\n",
    "z0 = rec_midsquare(90909090, n)\n",
    "\n",
    "k_k = 2373828\n",
    "m = 3728292\n",
    "a0 = 19941\n",
    "A, z1 = multiplicative_congruent_method_for_test(n, m, k_k, a0)\n",
    "\n",
    "print('Метод середины квадрата')\n",
    "plt.plot([0, 1], [1/k, 1/k], c='red')\n",
    "test_1(z0, k, n)\n",
    "\n",
    "print('Мультипликативный конгруэнтный метод')\n",
    "plt.plot([0, 1], [1/k, 1/k], c='red')\n",
    "test_1(z1, k, n)"
   ]
  },
  {
   "cell_type": "code",
   "execution_count": 13,
   "metadata": {},
   "outputs": [],
   "source": [
    "def get_m(z, n):\n",
    "    return sum(z) / n"
   ]
  },
  {
   "cell_type": "code",
   "execution_count": 14,
   "metadata": {},
   "outputs": [
    {
     "name": "stdout",
     "output_type": "stream",
     "text": [
      "0.5590535897240002\n",
      "0.5190051535177006\n",
      "0.49738364035764804\n"
     ]
    }
   ],
   "source": [
    "# метод середины квадрата\n",
    "number = 188392020\n",
    "n0 = 100 \n",
    "z0 = rec_midsquare(number, n0)\n",
    "print(get_m(z0, n0))\n",
    "\n",
    "n1 = 1000 \n",
    "z1 = rec_midsquare(number, n1)\n",
    "print(get_m(z1, n1))\n",
    "\n",
    "n2 = 100000\n",
    "z2 = rec_midsquare(number, n2)\n",
    "print(get_m(z2, n2))"
   ]
  },
  {
   "cell_type": "code",
   "execution_count": 15,
   "metadata": {},
   "outputs": [
    {
     "name": "stdout",
     "output_type": "stream",
     "text": [
      "0.4875058498636913\n",
      "0.503353251301132\n",
      "0.5007657622203342\n"
     ]
    }
   ],
   "source": [
    "# мультипликативный конгруэнтный метод\n",
    "k_k = 2373828\n",
    "m = 3728292\n",
    "a0 = 19941\n",
    "\n",
    "n0 = 100 \n",
    "A, z0 = multiplicative_congruent_method_for_test(n0, m, k_k, a0)\n",
    "print(get_m(z0, n0))\n",
    "\n",
    "n1 = 1000\n",
    "A, z1 = multiplicative_congruent_method_for_test(n1, m, k_k, a0)\n",
    "print(get_m(z1, n1))\n",
    "\n",
    "n2 = 100000\n",
    "A, z2 = multiplicative_congruent_method_for_test(n2, m, k_k, a0)\n",
    "print(get_m(z2, n2))"
   ]
  },
  {
   "cell_type": "code",
   "execution_count": 16,
   "metadata": {},
   "outputs": [],
   "source": [
    "def get_D(z, n):\n",
    "    m = get_m(z, n)\n",
    "    return sum(i ** 2 - m ** 2 for i in z) / n"
   ]
  },
  {
   "cell_type": "code",
   "execution_count": 17,
   "metadata": {},
   "outputs": [
    {
     "name": "stdout",
     "output_type": "stream",
     "text": [
      "0.08319549528721915\n",
      "0.08339382040691215\n"
     ]
    }
   ],
   "source": [
    "# метод середины квадрата\n",
    "n0 = 1000 \n",
    "z0 = rec_midsquare(90909090, n0)\n",
    "print(get_D(z0, n0))\n",
    "\n",
    "n1 = 100000\n",
    "z1 = rec_midsquare(90909090, n1)\n",
    "print(get_D(z1, n1))"
   ]
  },
  {
   "cell_type": "code",
   "execution_count": 18,
   "metadata": {},
   "outputs": [
    {
     "name": "stdout",
     "output_type": "stream",
     "text": [
      "0.08456054828907457\n",
      "0.08284124620606992\n"
     ]
    }
   ],
   "source": [
    "# мультипликативный конгруэнтный метод\n",
    "k_k = (2**32)-5\n",
    "m =2**64\n",
    "a0 = 19941994\n",
    "\n",
    "n0 = 1000 \n",
    "A, z0 = multiplicative_congruent_method_for_test(n0, m, k_k, a0)\n",
    "print(get_D(z0, n0))\n",
    "\n",
    "n1 = 100000\n",
    "A, z1 = multiplicative_congruent_method_for_test(n1, m, k_k, a0)\n",
    "print(get_D(z1, n1))"
   ]
  },
  {
   "cell_type": "markdown",
   "metadata": {},
   "source": [
    "## 2.2 Тестирование независимости"
   ]
  },
  {
   "cell_type": "code",
   "execution_count": 19,
   "metadata": {},
   "outputs": [],
   "source": [
    "def test_correlation_coefficient(z, n, s):\n",
    "    x = z[:-s]\n",
    "    y = z[s:]\n",
    "    M_x = sum(x) / n\n",
    "    M_y = sum(y) / n\n",
    "    M_x_y = sum([i * j for i, j in zip(x, y)]) / n\n",
    "    D_x = sum(i**2 - M_x**2 for i in x) / n\n",
    "    D_y = sum(i**2 - M_y**2 for i in y) / n\n",
    "    R_x_y = (M_x_y - (M_x * M_y)) / ((D_x * D_y) ** (0.5))\n",
    "    return R_x_y"
   ]
  },
  {
   "cell_type": "code",
   "execution_count": 20,
   "metadata": {},
   "outputs": [
    {
     "name": "stdout",
     "output_type": "stream",
     "text": [
      "0.240720054311104\n",
      "0.005449272257419271\n"
     ]
    }
   ],
   "source": [
    "# Метод середины квадрата\n",
    "n0 = 100\n",
    "s0 = 10\n",
    "z0 = rec_midsquare(90909090, n0)\n",
    "print(test_correlation_coefficient(z0, n0, s0))\n",
    "\n",
    "n1 = 100000\n",
    "s1 = 10\n",
    "z1 = rec_midsquare(90909090, n1)\n",
    "print(test_correlation_coefficient(z1, n1, s1))"
   ]
  },
  {
   "cell_type": "code",
   "execution_count": 21,
   "metadata": {},
   "outputs": [
    {
     "name": "stdout",
     "output_type": "stream",
     "text": [
      "0.15920626663235896\n",
      "0.00832813010926774\n"
     ]
    }
   ],
   "source": [
    "# Мультипликативный конгруэнтный метод\n",
    "k_k = (2**32)-5\n",
    "m =2**64\n",
    "a0 = 19941994\n",
    "\n",
    "n0 = 100\n",
    "s0 = 10\n",
    "A0, z0 = multiplicative_congruent_method_for_test(n0, m, k_k, a0)\n",
    "print(test_correlation_coefficient(z0, n0, s0))\n",
    "\n",
    "n1 = 10000\n",
    "s1 = 10\n",
    "A1, z1 = multiplicative_congruent_method_for_test(n1, m, k_k, a0)\n",
    "print(test_correlation_coefficient(z1, n1, s1))"
   ]
  },
  {
   "cell_type": "code",
   "execution_count": null,
   "metadata": {},
   "outputs": [],
   "source": []
  },
  {
   "cell_type": "code",
   "execution_count": null,
   "metadata": {},
   "outputs": [],
   "source": []
  },
  {
   "cell_type": "code",
   "execution_count": null,
   "metadata": {},
   "outputs": [],
   "source": []
  }
 ],
 "metadata": {
  "kernelspec": {
   "display_name": "Python 3",
   "language": "python",
   "name": "python3"
  },
  "language_info": {
   "codemirror_mode": {
    "name": "ipython",
    "version": 3
   },
   "file_extension": ".py",
   "mimetype": "text/x-python",
   "name": "python",
   "nbconvert_exporter": "python",
   "pygments_lexer": "ipython3",
   "version": "3.8.3"
  }
 },
 "nbformat": 4,
 "nbformat_minor": 4
}
